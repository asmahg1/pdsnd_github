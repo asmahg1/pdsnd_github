{
 "cells": [
  {
   "cell_type": "code",
   "execution_count": 1,
   "id": "47ff2b7d-dc7a-414b-a57d-539ac8040e54",
   "metadata": {},
   "outputs": [],
   "source": [
    "import time\n",
    "import pandas as pd\n",
    "import numpy as np\n"
   ]
  },
  {
   "cell_type": "code",
   "execution_count": 2,
   "id": "f83db5ab-8065-40fa-ad3a-7111acf02819",
   "metadata": {},
   "outputs": [],
   "source": [
    "CITY_DATA = { 'chicago': '~/Downloads/all-project-files/chicago.csv',\n",
    "              'new york city': 'new_york_city.csv',\n",
    "              'washington': 'washington.csv' }\n",
    "\n",
    "MONTHS = ['january', 'february', 'march', 'april', 'may', 'june']\n",
    "MONTHS_ = ['All', 'january', 'february', 'march', 'april', 'may', 'june']# for printing \n",
    "DAYS_ = ['All (Monday-Sunday)', 'Monday', 'Tuesday', 'Wednesday', 'Thursday', 'Friday', 'Saturday', 'Sunday']\n",
    "DAYS = ['Monday', 'Tuesday', 'Wednesday', 'Thursday', 'Friday', 'Saturday', 'Sunday']"
   ]
  },
  {
   "cell_type": "code",
   "execution_count": 3,
   "id": "93544e65-d2d2-4e4b-938f-64c0cc7e0fc8",
   "metadata": {},
   "outputs": [],
   "source": [
    "def get_filters():\n",
    "    \"\"\"\n",
    "    Asks user to specify a city, month, and day to analyze.\n",
    "\n",
    "    Returns:\n",
    "        (str) city - name of the city to analyze\n",
    "        (str) month - name of the month to filter by, or \"all\" to apply no month filter\n",
    "        (str) day - name of the day of week to filter by, or \"all\" to apply no day filter\n",
    "    \"\"\"\n",
    "    print('Hello! Let\\'s explore some US bikeshare data in 3 steps only!')\n",
    "    # get user input for city (chicago, new york city, washington). HINT: Use a while loop to handle invalid inputs\n",
    "    print('**FIRST**:\\nChoose a CITY:\\n1-Chicago\\n2-NewYork\\n3-Washington')\n",
    "    \n",
    "    while True:\n",
    "            choosen_city = int(input('Choose from 1 to 3 and press ENTER: '))\n",
    "            if choosen_city>=1 and choosen_city<=3 :\n",
    "                    if choosen_city == 1: \n",
    "                        city = 'chicago'\n",
    "                        print('\\n\\t **City: Chicago**')\n",
    "                    elif choosen_city == 2: \n",
    "                        city = 'new york city'\n",
    "                        print('\\n\\t **City: NewYork**')\n",
    "                    elif choosen_city == 3: \n",
    "                        city = 'washington'\n",
    "                        print('\\n\\t **City: Washington**')\n",
    "                    break\n",
    "            else:\n",
    "                print('## invalid input try again ##\\n Remember from 0 to 3 only')\n",
    "    \n",
    "\n",
    "    # get user input for month (all, january, february, ... , june)\n",
    "    print('\\n**SECOND**:\\nChoose a MONTH:')\n",
    "    for n in range(len(MONTHS_)):\n",
    "        print('{0}-'.format(n) ,MONTHS_[n])\n",
    "    \n",
    "    while True:\n",
    "            choosen_month = int(input('Choose from 0 to 6 and press ENTER : '))\n",
    "            if choosen_month >= 0 and choosen_month <= 6:\n",
    "                month = MONTHS[choosen_month-1].lower()\n",
    "                print('\\n\\t **Month:{0}**'.format(month))\n",
    "                if choosen_month == 0:\n",
    "                    month = 'all'\n",
    "                    print('\\n\\t **Month: January to June**')\n",
    "                break\n",
    "            else:\n",
    "                print('## invalid input try again ##\\n Remember from 0 to 6 only')\n",
    "\n",
    "                    \n",
    "    # get user input for day of week (all, monday, tuesday, ... sunday)\n",
    "    print('\\n**THIRD**:\\nChoose a DAY:')\n",
    "    for n in range(len(DAYS_)):\n",
    "        print('{0}-'.format(n) ,DAYS_[n])\n",
    "        \n",
    "    while True:\n",
    "        \n",
    "            choosen_day = int(input('Choose from 0 to 7 and press ENTER : '))\n",
    "            if choosen_day >= 0 and choosen_day <= 7:\n",
    "                day = DAYS[choosen_day-1].lower()\n",
    "                print('\\n\\t **Day:{0}**'.format(day))\n",
    "                if choosen_day == 0:\n",
    "                    day = 'all'\n",
    "                    print('\\n\\t **Day:All week**')\n",
    "                break\n",
    "            else:\n",
    "                print('## invalid input try again ##\\n Remember from 0 to 7 only') \n",
    "\n",
    "    print('-'*40)\n",
    "\n",
    "    return city, month, day\n",
    "\n"
   ]
  },
  {
   "cell_type": "code",
   "execution_count": 4,
   "id": "a8558b36-52bb-4251-8611-a9a4ef0a473c",
   "metadata": {},
   "outputs": [],
   "source": [
    "def load_data(city, month, day):\n",
    "    \"\"\"\n",
    "    Loads data for the specified city and filters by month and day if applicable.\n",
    "\n",
    "    Args:\n",
    "        (str) city - name of the city to analyze\n",
    "        (str) month - name of the month to filter by, or \"all\" to apply no month filter\n",
    "        (str) day - name of the day of week to filter by, or \"all\" to apply no day filter\n",
    "    Returns:\n",
    "        df - Pandas DataFrame containing city data filtered by month and day\n",
    "    \"\"\"\n",
    "\n",
    "\n",
    "    # load data file into a dataframe\n",
    "    df = pd.read_csv(CITY_DATA[city])\n",
    "\n",
    "    # convert the Start Time column to datetime\n",
    "    df['Start Time'] = pd.to_datetime(df['Start Time'])\n",
    "\n",
    "    # extract month and day of week from Start Time to create new columns\n",
    "    df['month'] = df['Start Time'].dt.month\n",
    "    df['day_of_week'] = df['Start Time'].dt.weekday\n",
    "\n",
    "    # filter by month if applicable\n",
    "    if month != 'all':\n",
    "        # use the index of the months list to get the corresponding int\n",
    "        month = MONTHS.index(month) + 1\n",
    "\n",
    "        # filter by month to create the new dataframe\n",
    "        df = df[df['month'] == month]\n",
    "\n",
    "    # filter by day of week if applicable\n",
    "    if day != 'all':\n",
    "        # filter by day of week to create the new dataframe\n",
    "        df = df[df['day_of_week'] == day.title()]\n",
    "        \n",
    "    return df"
   ]
  },
  {
   "cell_type": "code",
   "execution_count": 5,
   "id": "e101dbd7-7fe4-4e94-afd3-10bfe62dc2ee",
   "metadata": {},
   "outputs": [],
   "source": [
    "def time_stats(df):\n",
    "    \"\"\"Displays statistics on the most frequent times of travel.\"\"\"\n",
    "\n",
    "    print('\\nCalculating The Most Frequent Times of Travel...\\n')\n",
    "    start_time = time.time()\n",
    "    \n",
    "    # display the most common month\n",
    "    popular_month = df['month'].mode()[0]\n",
    "    print('Most Frequent month:', popular_month)\n",
    "    \n",
    "    # display the most common day of week\n",
    "    popular_day = df['day_of_week'].mode()[0]\n",
    "    print('Most Frequent day:', popular_day)\n",
    "    # display the most common start hour\n",
    "    popular_hour = df['Start Time'].mode()[0]\n",
    "    print('Most Frequent Start Hour:', popular_hour)\n",
    "        \n",
    "    print(\"\\nThis took %s seconds.\" % (time.time() - start_time))\n",
    "    print('-'*40)\n",
    "\n"
   ]
  },
  {
   "cell_type": "code",
   "execution_count": 6,
   "id": "17e9b1f3-6d23-49d9-b760-63cbf067f15a",
   "metadata": {},
   "outputs": [],
   "source": [
    "def station_stats(df):\n",
    "    \"\"\"Displays statistics on the most popular stations and trip.\"\"\"\n",
    "\n",
    "    print('\\nCalculating The Most Popular Stations and Trip...\\n')\n",
    "    start_time = time.time()\n",
    "\n",
    "    # display most commonly used start station\n",
    "\n",
    "\n",
    "    # display most commonly used end station\n",
    "\n",
    "\n",
    "    # display most frequent combination of start station and end station trip\n",
    "\n",
    "\n",
    "    print(\"\\nThis took %s seconds.\" % (time.time() - start_time))\n",
    "    print('-'*40)\n"
   ]
  },
  {
   "cell_type": "code",
   "execution_count": 7,
   "id": "094be169-fab6-4241-b094-0096e5f38184",
   "metadata": {},
   "outputs": [],
   "source": [
    "def trip_duration_stats(df):\n",
    "    \"\"\"Displays statistics on the total and average trip duration.\"\"\"\n",
    "\n",
    "    print('\\nCalculating Trip Duration...\\n')\n",
    "    start_time = time.time()\n",
    "\n",
    "    # display total travel time\n",
    "\n",
    "\n",
    "    # display mean travel time\n",
    "\n",
    "\n",
    "    print(\"\\nThis took %s seconds.\" % (time.time() - start_time))\n",
    "    print('-'*40)\n"
   ]
  },
  {
   "cell_type": "code",
   "execution_count": 8,
   "id": "2837c538-4874-4dcc-a069-f25ca9e648a0",
   "metadata": {},
   "outputs": [],
   "source": [
    "def user_stats(df):\n",
    "    \"\"\"Displays statistics on bikeshare users.\"\"\"\n",
    "\n",
    "    print('\\nCalculating User Stats...\\n')\n",
    "    start_time = time.time()\n",
    "\n",
    "    # Display counts of user types\n",
    "\n",
    "\n",
    "    # Display counts of gender\n",
    "\n",
    "\n",
    "    # Display earliest, most recent, and most common year of birth\n",
    "\n",
    "\n",
    "    print(\"\\nThis took %s seconds.\" % (time.time() - start_time))\n",
    "    print('-'*40)\n"
   ]
  },
  {
   "cell_type": "code",
   "execution_count": null,
   "id": "a9adfe3c-0339-48c4-ac57-5b2f7a343003",
   "metadata": {},
   "outputs": [
    {
     "name": "stdout",
     "output_type": "stream",
     "text": [
      "Hello! Let's explore some US bikeshare data in 3 steps only!\n",
      "**FIRST**:\n",
      "Choose a CITY:\n",
      "1-Chicago\n",
      "2-NewYork\n",
      "3-Washington\n"
     ]
    },
    {
     "name": "stdin",
     "output_type": "stream",
     "text": [
      "Choose from 1 to 3 and press ENTER:  1\n"
     ]
    },
    {
     "name": "stdout",
     "output_type": "stream",
     "text": [
      "\n",
      "\t **City: Chicago**\n",
      "\n",
      "**SECOND**:\n",
      "Choose a MONTH:\n",
      "0- All\n",
      "1- january\n",
      "2- february\n",
      "3- march\n",
      "4- april\n",
      "5- may\n",
      "6- june\n"
     ]
    },
    {
     "name": "stdin",
     "output_type": "stream",
     "text": [
      "Choose from 0 to 6 and press ENTER :  2\n"
     ]
    },
    {
     "name": "stdout",
     "output_type": "stream",
     "text": [
      "\n",
      "\t **Month:february**\n",
      "\n",
      "**THIRD**:\n",
      "Choose a DAY:\n",
      "0- All (Monday-Sunday)\n",
      "1- Monday\n",
      "2- Tuesday\n",
      "3- Wednesday\n",
      "4- Thursday\n",
      "5- Friday\n",
      "6- Saturday\n",
      "7- Sunday\n"
     ]
    },
    {
     "name": "stdin",
     "output_type": "stream",
     "text": [
      "Choose from 0 to 7 and press ENTER :  3\n"
     ]
    },
    {
     "name": "stdout",
     "output_type": "stream",
     "text": [
      "\n",
      "\t **Day:wednesday**\n",
      "----------------------------------------\n",
      "Empty DataFrame\n",
      "Columns: [Unnamed: 0, Start Time, End Time, Trip Duration, Start Station, End Station, User Type, Gender, Birth Year, month, day_of_week]\n",
      "Index: []\n"
     ]
    }
   ],
   "source": [
    "def main():\n",
    "    while True:\n",
    "        city, month, day = get_filters()\n",
    "        df = load_data(city, month, day)\n",
    "        print(df.head(10))\n",
    "       # time_stats(df)\n",
    "       # station_stats(df)\n",
    "        #trip_duration_stats(df)\n",
    "       # user_stats(df)\n",
    "\n",
    "        restart = input('\\nWould you like to restart? Enter yes or no.\\n')\n",
    "        if restart.lower() != 'yes':\n",
    "            break\n",
    "\n",
    "\n",
    "if __name__ == \"__main__\":\n",
    "\tmain()\n"
   ]
  },
  {
   "cell_type": "code",
   "execution_count": null,
   "id": "819e5a72-39d3-43d3-bd94-da18a498f820",
   "metadata": {},
   "outputs": [],
   "source": []
  }
 ],
 "metadata": {
  "kernelspec": {
   "display_name": "Python 3 (ipykernel)",
   "language": "python",
   "name": "python3"
  },
  "language_info": {
   "codemirror_mode": {
    "name": "ipython",
    "version": 3
   },
   "file_extension": ".py",
   "mimetype": "text/x-python",
   "name": "python",
   "nbconvert_exporter": "python",
   "pygments_lexer": "ipython3",
   "version": "3.9.12"
  }
 },
 "nbformat": 4,
 "nbformat_minor": 5
}
